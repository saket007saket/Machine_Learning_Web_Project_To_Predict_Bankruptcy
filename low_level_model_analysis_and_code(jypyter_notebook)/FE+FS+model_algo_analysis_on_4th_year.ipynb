{
 "cells": [
  {
   "cell_type": "code",
   "execution_count": 33,
   "metadata": {},
   "outputs": [],
   "source": [
    "import pandas as pd \n",
    "import numpy as np\n",
    "# for plotting\n",
    "import matplotlib.pyplot as plt\n",
    "import scipy.stats as stats\n",
    "from sklearn.model_selection import train_test_split\n",
    "# from feature-engine\n",
    "from feature_engine import missing_data_imputers as mdi\n",
    "import scipy.stats as stats\n",
    "from feature_engine import variable_transformers as vt\n",
    "import matplotlib.pyplot as plt\n",
    "from feature_engine.discretisers import EqualWidthDiscretiser\n",
    "from feature_engine.discretisers import DecisionTreeDiscretiser\n",
    "from sklearn.ensemble import RandomForestClassifier\n",
    "from sklearn.metrics import roc_auc_score\n",
    "from sklearn.linear_model import LogisticRegression\n",
    "# the scaler - for standardisation\n",
    "from sklearn.preprocessing import StandardScaler\n",
    "from sklearn.feature_selection import VarianceThreshold\n",
    "from sklearn.tree import DecisionTreeClassifier\n",
    "from sklearn.feature_selection import SelectFromModel"
   ]
  },
  {
   "cell_type": "code",
   "execution_count": 34,
   "metadata": {},
   "outputs": [],
   "source": [
    "# Classification algorithms\n",
    "from sklearn.linear_model import LogisticRegression\n",
    "from sklearn.neighbors import KNeighborsClassifier\n",
    "from sklearn.naive_bayes import GaussianNB\n",
    "from sklearn.svm import SVC\n",
    "from sklearn.gaussian_process import GaussianProcessClassifier\n",
    "from sklearn.gaussian_process.kernels import RBF\n",
    "from sklearn.tree import DecisionTreeClassifier\n",
    "from sklearn.ensemble import RandomForestClassifier, AdaBoostClassifier, GradientBoostingClassifier, VotingClassifier\n",
    "from sklearn.discriminant_analysis import LinearDiscriminantAnalysis , QuadraticDiscriminantAnalysis\n",
    "from sklearn.neural_network import MLPClassifier\n",
    "import lightgbm as lgb#  for this i have to install package  \"  !pip install lightgbm \"\n",
    "import xgboost as xgb\n",
    "# Data preprocessing :\n",
    "from sklearn.preprocessing import MinMaxScaler, StandardScaler, Normalizer, scale, LabelEncoder, OneHotEncoder\n",
    "# Modeling helper functions\n",
    "from sklearn.model_selection import train_test_split\n",
    "from sklearn.model_selection import GridSearchCV , KFold , cross_val_score\n",
    "from sklearn.metrics import accuracy_score,confusion_matrix, classification_report, precision_score,recall_score,f1_score"
   ]
  },
  {
   "cell_type": "code",
   "execution_count": 35,
   "metadata": {},
   "outputs": [],
   "source": [
    "# Data visualisation\n",
    "import matplotlib.pyplot as plt\n",
    "import seaborn as sns"
   ]
  },
  {
   "cell_type": "code",
   "execution_count": null,
   "metadata": {},
   "outputs": [],
   "source": []
  },
  {
   "cell_type": "code",
   "execution_count": 36,
   "metadata": {},
   "outputs": [
    {
     "name": "stderr",
     "output_type": "stream",
     "text": [
      "C:\\Users\\SAKET NANDAN\\anaconda3\\lib\\site-packages\\IPython\\core\\interactiveshell.py:3063: DtypeWarning: Columns (0,1,2,5,6,7,9,10,13,14,15,16,17,21,23,24,25,28,33,34,35,37,47,49,50,56,58) have mixed types.Specify dtype option on import or set low_memory=False.\n",
      "  interactivity=interactivity, compiler=compiler, result=result)\n"
     ]
    }
   ],
   "source": [
    "year_4=pd.read_csv(r\"C:\\Users\\SAKET NANDAN\\Documents\\current_hackathon\\bank_ruptcy\\Bankruptcy dataset\\4year.csv\")"
   ]
  },
  {
   "cell_type": "code",
   "execution_count": 37,
   "metadata": {},
   "outputs": [],
   "source": [
    "k1=year_4.columns.tolist()"
   ]
  },
  {
   "cell_type": "code",
   "execution_count": 38,
   "metadata": {},
   "outputs": [],
   "source": [
    "#replacing each ? to NAN\n",
    "for i in k1:\n",
    "    year_4[i] = year_4[i].replace('?' , np.nan)"
   ]
  },
  {
   "cell_type": "code",
   "execution_count": 39,
   "metadata": {},
   "outputs": [],
   "source": [
    "#converting object data into numericals(float64)\n",
    "year_4=year_4.apply(lambda col:pd.to_numeric(col,errors='coerce'))"
   ]
  },
  {
   "cell_type": "code",
   "execution_count": 40,
   "metadata": {},
   "outputs": [
    {
     "data": {
      "text/plain": [
       "((6677, 64), (2862, 64))"
      ]
     },
     "execution_count": 40,
     "metadata": {},
     "output_type": "execute_result"
    }
   ],
   "source": [
    "# Let's divide into train and test set\n",
    "\n",
    "X_train, X_test, y_train, y_test = train_test_split(\n",
    "    year_4.drop(labels='class', axis=1),  # predictors\n",
    "    year_4['class'],  # target\n",
    "    test_size=0.3,\n",
    "    random_state=0)\n",
    "\n",
    "X_train.shape, X_test.shape"
   ]
  },
  {
   "cell_type": "code",
   "execution_count": 41,
   "metadata": {},
   "outputs": [],
   "source": [
    "# replacing null with mean imputer \n",
    "mean_imputer= mdi.MeanMedianImputer(imputation_method='mean', variables = year_4.drop(labels='class',axis=1).columns.tolist())"
   ]
  },
  {
   "cell_type": "code",
   "execution_count": 42,
   "metadata": {},
   "outputs": [
    {
     "data": {
      "text/plain": [
       "MeanMedianImputer(imputation_method='mean',\n",
       "                  variables=['Attr1', 'Attr2', 'Attr3', 'Attr4', 'Attr5',\n",
       "                             'Attr6', 'Attr7', 'Attr8', 'Attr9', 'Attr10',\n",
       "                             'Attr11', 'Attr12', 'Attr13', 'Attr14', 'Attr15',\n",
       "                             'Attr16', 'Attr17', 'Attr18', 'Attr19', 'Attr20',\n",
       "                             'Attr21', 'Attr22', 'Attr23', 'Attr24', 'Attr25',\n",
       "                             'Attr26', 'Attr27', 'Attr28', 'Attr29', 'Attr30', ...])"
      ]
     },
     "execution_count": 42,
     "metadata": {},
     "output_type": "execute_result"
    }
   ],
   "source": [
    "mean_imputer.fit(X_train)"
   ]
  },
  {
   "cell_type": "code",
   "execution_count": 43,
   "metadata": {},
   "outputs": [],
   "source": [
    "# let's transform the data with the pipeline\n",
    "X_train_imp= mean_imputer.transform(X_train)\n",
    "X_test_imp= mean_imputer.transform(X_test)"
   ]
  },
  {
   "cell_type": "code",
   "execution_count": 44,
   "metadata": {},
   "outputs": [],
   "source": [
    "X_train_no_miss=X_train_imp.copy()\n",
    "X_test_no_miss=X_test_imp.copy()\n",
    "y_train_no_miss=y_train.copy()\n",
    "y_test_no_miss=y_test.copy()"
   ]
  },
  {
   "cell_type": "code",
   "execution_count": 45,
   "metadata": {},
   "outputs": [],
   "source": [
    "from sklearn.feature_selection import VarianceThreshold\n",
    "from sklearn.tree import DecisionTreeClassifier\n",
    "from sklearn.feature_selection import SelectFromModel"
   ]
  },
  {
   "cell_type": "code",
   "execution_count": 46,
   "metadata": {},
   "outputs": [],
   "source": [
    "X_train=X_train_no_miss.copy()\n",
    "X_test=X_test_no_miss.copy()\n",
    "y_train=y_train_no_miss.copy()\n",
    "y_test=y_test_no_miss.copy()"
   ]
  },
  {
   "cell_type": "code",
   "execution_count": 47,
   "metadata": {},
   "outputs": [],
   "source": [
    "# I keep a copy of the dataset with all the variables\n",
    "# to measure the performance of machine learning models\n",
    "# at the end of the notebook\n",
    "X_train_original = X_train.copy()\n",
    "X_test_original = X_test.copy()"
   ]
  },
  {
   "cell_type": "markdown",
   "metadata": {},
   "source": [
    "### Remove constant features"
   ]
  },
  {
   "cell_type": "code",
   "execution_count": 48,
   "metadata": {},
   "outputs": [
    {
     "data": {
      "text/plain": [
       "((6677, 64), (2862, 64))"
      ]
     },
     "execution_count": 48,
     "metadata": {},
     "output_type": "execute_result"
    }
   ],
   "source": [
    "#before removing constatnt features\n",
    "X_train.shape,X_test.shape"
   ]
  },
  {
   "cell_type": "code",
   "execution_count": 49,
   "metadata": {},
   "outputs": [
    {
     "data": {
      "text/plain": [
       "((6677, 64), (2862, 64))"
      ]
     },
     "execution_count": 49,
     "metadata": {},
     "output_type": "execute_result"
    }
   ],
   "source": [
    "# remove constant features\n",
    "constant_features = [\n",
    "    feat for feat in X_train.columns if X_train[feat].std() == 0\n",
    "]\n",
    " \n",
    "X_train.drop(labels=constant_features, axis=1, inplace=True)\n",
    "X_test.drop(labels=constant_features, axis=1, inplace=True)\n",
    " \n",
    "X_train.shape, X_test.shape"
   ]
  },
  {
   "cell_type": "markdown",
   "metadata": {},
   "source": [
    "### Remove quasi-constant features"
   ]
  },
  {
   "cell_type": "code",
   "execution_count": 50,
   "metadata": {},
   "outputs": [
    {
     "data": {
      "text/plain": [
       "64"
      ]
     },
     "execution_count": 50,
     "metadata": {},
     "output_type": "execute_result"
    }
   ],
   "source": [
    "# remove quasi-constant features\n",
    "sel = VarianceThreshold(\n",
    "    threshold=0.001)  # 0.1 indicates 99% of observations approximately\n",
    " \n",
    "sel.fit(X_train)  # fit finds the features with low variance\n",
    " \n",
    "sum(sel.get_support()) # how many not quasi-constant?"
   ]
  },
  {
   "cell_type": "code",
   "execution_count": 51,
   "metadata": {},
   "outputs": [],
   "source": [
    "features_to_keep = X_train.columns[sel.get_support()]"
   ]
  },
  {
   "cell_type": "code",
   "execution_count": 52,
   "metadata": {},
   "outputs": [
    {
     "data": {
      "text/plain": [
       "((6677, 64), (2862, 64))"
      ]
     },
     "execution_count": 52,
     "metadata": {},
     "output_type": "execute_result"
    }
   ],
   "source": [
    " #we can then remove the features like this\n",
    "X_train = sel.transform(X_train)\n",
    "X_test = sel.transform(X_test)\n",
    " \n",
    "X_train.shape, X_test.shape"
   ]
  },
  {
   "cell_type": "code",
   "execution_count": 53,
   "metadata": {},
   "outputs": [],
   "source": [
    "#sklearn transformations lead to numpy arrays\n",
    "#here I transform the arrays back to dataframes\n",
    "# please be mindful of getting the columns assigned\n",
    "# correctly\n",
    " \n",
    "X_train= pd.DataFrame(X_train)\n",
    "X_train.columns = features_to_keep\n",
    " \n",
    "X_test= pd.DataFrame(X_test)\n",
    "X_test.columns = features_to_keep"
   ]
  },
  {
   "cell_type": "markdown",
   "metadata": {},
   "source": [
    "### Remove duplicated features\n"
   ]
  },
  {
   "cell_type": "code",
   "execution_count": 54,
   "metadata": {},
   "outputs": [
    {
     "name": "stdout",
     "output_type": "stream",
     "text": [
      "0\n",
      "10\n",
      "20\n",
      "30\n",
      "40\n",
      "50\n",
      "60\n"
     ]
    },
    {
     "data": {
      "text/plain": [
       "0"
      ]
     },
     "execution_count": 54,
     "metadata": {},
     "output_type": "execute_result"
    }
   ],
   "source": [
    "# check for duplicated features in the training set\n",
    "duplicated_feat = []\n",
    "for i in range(0, len(X_train.columns)):\n",
    "    if i % 10 == 0:  # this helps me understand how the loop is going\n",
    "        print(i)\n",
    " \n",
    "    col_1 = X_train.columns[i]\n",
    " \n",
    "    for col_2 in X_train.columns[i + 1:]:\n",
    "        if X_train[col_1].equals(X_train[col_2]):\n",
    "            duplicated_feat.append(col_2)\n",
    "            \n",
    "len(duplicated_feat)#no of duplicate features?"
   ]
  },
  {
   "cell_type": "code",
   "execution_count": 55,
   "metadata": {},
   "outputs": [
    {
     "data": {
      "text/plain": [
       "((6677, 64), (2862, 64))"
      ]
     },
     "execution_count": 55,
     "metadata": {},
     "output_type": "execute_result"
    }
   ],
   "source": [
    "# remove duplicated features\n",
    "X_train.drop(labels=duplicated_feat, axis=1, inplace=True)\n",
    "X_test.drop(labels=duplicated_feat, axis=1, inplace=True)\n",
    " \n",
    "X_train.shape, X_test.shape"
   ]
  },
  {
   "cell_type": "code",
   "execution_count": 56,
   "metadata": {},
   "outputs": [],
   "source": [
    "# I keep a copy of the dataset except constant and duplicated variables\n",
    "# to measure the performance of machine learning models\n",
    "# at the end of the notebook\n",
    " \n",
    "X_train_basic_filter = X_train.copy()\n",
    "X_test_basic_filter = X_test.copy()"
   ]
  },
  {
   "cell_type": "markdown",
   "metadata": {},
   "source": [
    "## Remove correlated features"
   ]
  },
  {
   "cell_type": "code",
   "execution_count": 57,
   "metadata": {},
   "outputs": [
    {
     "name": "stdout",
     "output_type": "stream",
     "text": [
      "correlated features:  26\n"
     ]
    }
   ],
   "source": [
    "# find and remove correlated features\n",
    "def correlation(dataset, threshold):\n",
    "    col_corr = set()  # Set of all the names of correlated columns\n",
    "    corr_matrix = dataset.corr()\n",
    "    for i in range(len(corr_matrix.columns)):\n",
    "        for j in range(i):\n",
    "            if abs(corr_matrix.iloc[i, j]) > threshold: # we are interested in absolute coeff value\n",
    "                colname = corr_matrix.columns[i]  # getting the name of column\n",
    "                col_corr.add(colname)\n",
    "    return col_corr\n",
    " \n",
    "corr_features = correlation(X_train, 0.85)\n",
    "print('correlated features: ', len(set(corr_features)) )"
   ]
  },
  {
   "cell_type": "code",
   "execution_count": 58,
   "metadata": {},
   "outputs": [
    {
     "data": {
      "text/plain": [
       "((6677, 38), (2862, 38))"
      ]
     },
     "execution_count": 58,
     "metadata": {},
     "output_type": "execute_result"
    }
   ],
   "source": [
    "# removed correlated  features\n",
    "X_train.drop(labels=corr_features, axis=1, inplace=True)\n",
    "X_test.drop(labels=corr_features, axis=1, inplace=True)\n",
    " \n",
    "X_train.shape, X_test.shape"
   ]
  },
  {
   "cell_type": "code",
   "execution_count": 59,
   "metadata": {},
   "outputs": [],
   "source": [
    "# keep a copy of the dataset at  this stage\n",
    "X_train_corr = X_train.copy()\n",
    "X_test_corr = X_test.copy()"
   ]
  },
  {
   "cell_type": "markdown",
   "metadata": {},
   "source": [
    "## Remove features using univariate ROC-AUC\n"
   ]
  },
  {
   "cell_type": "code",
   "execution_count": 60,
   "metadata": {},
   "outputs": [],
   "source": [
    "# find important features using univariate roc-auc\n",
    " \n",
    "# loop to build a tree, make predictions and get the roc-auc\n",
    "# for each feature of the train set\n",
    " \n",
    "roc_values = []\n",
    "for feature in X_train.columns:\n",
    "    clf = DecisionTreeClassifier()\n",
    "    clf.fit(X_train[feature].fillna(0).to_frame(), y_train)\n",
    "    y_scored = clf.predict_proba(X_test[feature].fillna(0).to_frame())\n",
    "    roc_values.append(roc_auc_score(y_test, y_scored[:, 1]))"
   ]
  },
  {
   "cell_type": "code",
   "execution_count": 61,
   "metadata": {},
   "outputs": [
    {
     "data": {
      "text/plain": [
       "<matplotlib.axes._subplots.AxesSubplot at 0x125bd381548>"
      ]
     },
     "execution_count": 61,
     "metadata": {},
     "output_type": "execute_result"
    },
    {
     "data": {
      "image/png": "[encoded data removed]",
      "text/plain": [
       "<Figure size 1440x576 with 1 Axes>"
      ]
     },
     "metadata": {
      "needs_background": "light"
     },
     "output_type": "display_data"
    }
   ],
   "source": [
    "# let's add the variable names and order it for clearer visualisation\n",
    "roc_values = pd.Series(roc_values)\n",
    "roc_values.index = X_train.columns\n",
    "roc_values.sort_values(ascending=False).plot.bar(figsize=(20, 8))"
   ]
  },
  {
   "cell_type": "code",
   "execution_count": 62,
   "metadata": {},
   "outputs": [
    {
     "data": {
      "text/plain": [
       "(34, 38)"
      ]
     },
     "execution_count": 62,
     "metadata": {},
     "output_type": "execute_result"
    }
   ],
   "source": [
    "# by removing features with univariate roc_auc == 0.5\n",
    "# we remove another 30 features\n",
    " \n",
    "selected_feat = roc_values[roc_values>0.5]\n",
    "len(selected_feat), X_train.shape[1]"
   ]
  },
  {
   "cell_type": "markdown",
   "metadata": {},
   "source": [
    "### select feature based on random forest feature importance "
   ]
  },
  {
   "cell_type": "code",
   "execution_count": 63,
   "metadata": {},
   "outputs": [],
   "source": [
    "# select features using the impotance derived from\n",
    "# random forests\n",
    "#sel_ = SelectFromModel(RandomForestClassifier(n_estimators=200))\n",
    "#sel_.fit(X_train, y_train)\n",
    " \n",
    "# remove features with zero coefficient from dataset\n",
    "# and parse again as dataframe (output of sklearn is\n",
    "# numpy array)\n",
    "#X_train_rf = pd.DataFrame(sel_.transform(X_train))\n",
    "#X_test_rf = pd.DataFrame(sel_.transform(X_test))\n",
    " \n",
    "# add the columns name\n",
    "#X_train_rf.columns = X_train.columns[(sel_.get_support())]\n",
    "#X_test_rf.columns = X_train.columns[(sel_.get_support())]"
   ]
  },
  {
   "cell_type": "code",
   "execution_count": 64,
   "metadata": {},
   "outputs": [],
   "source": [
    "#X_train_rf.columns"
   ]
  },
  {
   "cell_type": "markdown",
   "metadata": {},
   "source": [
    "###### using random forest feature importance i got these set of features \n",
    "\n",
    "Index(['Attr6', 'Attr9', 'Attr15', 'Attr21', 'Attr24', 'Attr27', 'Attr29',\n",
    "       'Attr39', 'Attr40', 'Attr41', 'Attr42', 'Attr55', 'Attr58'],\n",
    "      dtype='object')"
   ]
  },
  {
   "cell_type": "markdown",
   "metadata": {},
   "source": [
    "###  feature selection using xgboosting feature importance "
   ]
  },
  {
   "cell_type": "code",
   "execution_count": 65,
   "metadata": {},
   "outputs": [],
   "source": [
    "# select features using the impotance derived from\n",
    "# xgb0sting algo \n",
    "sel_ = SelectFromModel(xgb.XGBClassifier(n_estimators=200))\n",
    "sel_.fit(X_train, y_train)\n",
    " \n",
    "# remove features with zero coefficient from dataset\n",
    "# and parse again as dataframe (output of sklearn is\n",
    "# numpy array)\n",
    "X_train_rf = pd.DataFrame(sel_.transform(X_train))\n",
    "X_test_rf = pd.DataFrame(sel_.transform(X_test))\n",
    " \n",
    "# add the columns name\n",
    "X_train_rf.columns = X_train.columns[(sel_.get_support())]\n",
    "X_test_rf.columns = X_train.columns[(sel_.get_support())]"
   ]
  },
  {
   "cell_type": "code",
   "execution_count": 66,
   "metadata": {},
   "outputs": [
    {
     "data": {
      "text/plain": [
       "Index(['Attr1', 'Attr4', 'Attr5', 'Attr6', 'Attr9', 'Attr13', 'Attr15',\n",
       "       'Attr19', 'Attr21', 'Attr24', 'Attr27', 'Attr29', 'Attr39', 'Attr42',\n",
       "       'Attr55', 'Attr58'],\n",
       "      dtype='object')"
      ]
     },
     "execution_count": 66,
     "metadata": {},
     "output_type": "execute_result"
    }
   ],
   "source": [
    "X_train_rf.columns"
   ]
  },
  {
   "cell_type": "markdown",
   "metadata": {},
   "source": [
    "###### using xgboosting feature importance i got these set of features \n",
    "\n",
    "Index(['Attr1', 'Attr4', 'Attr5', 'Attr6', 'Attr9', 'Attr13', 'Attr15',\n",
    "       'Attr19', 'Attr21', 'Attr24', 'Attr27', 'Attr29', 'Attr39', 'Attr42',\n",
    "       'Attr55', 'Attr58'],\n",
    "      dtype='object')"
   ]
  },
  {
   "cell_type": "markdown",
   "metadata": {},
   "source": [
    "###### but i have analysed explicitly set of features which are giving me best confusion matrix result are (i tried 7-8 combination but best confusion matrix i m getting with feature selection using random forest and passing these features in xgboosting algo with no of estimators 200)\n",
    "[['Attr5','Attr9','Attr15','Attr21','Attr24','Attr27','Attr34','Attr35','Attr40','Attr46','Attr55','Attr58','class']] "
   ]
  },
  {
   "cell_type": "markdown",
   "metadata": {},
   "source": [
    "###### above feature set i have gone through some feature engineering steps \n",
    "###### missing imputation------>gaussian transformation ----->decision tree descritisation------>scaling --->feature selection \n",
    "[['Attr5','Attr9','Attr15','Attr21','Attr24','Attr27','Attr34','Attr35','Attr40','Attr46','Attr55','Attr58','class']] \n",
    "\n",
    "###### but important analysis i found that feature set using these above feature engineering steps giving best result on original data aftter imputation only "
   ]
  },
  {
   "cell_type": "code",
   "execution_count": null,
   "metadata": {},
   "outputs": [],
   "source": []
  },
  {
   "cell_type": "code",
   "execution_count": null,
   "metadata": {},
   "outputs": [],
   "source": []
  },
  {
   "cell_type": "code",
   "execution_count": 67,
   "metadata": {},
   "outputs": [
    {
     "name": "stderr",
     "output_type": "stream",
     "text": [
      "C:\\Users\\SAKET NANDAN\\anaconda3\\lib\\site-packages\\IPython\\core\\interactiveshell.py:3063: DtypeWarning: Columns (0,1,2,5,6,7,9,10,13,14,15,16,17,21,23,24,25,28,33,34,35,37,47,49,50,56,58) have mixed types.Specify dtype option on import or set low_memory=False.\n",
      "  interactivity=interactivity, compiler=compiler, result=result)\n"
     ]
    }
   ],
   "source": [
    "data=pd.read_csv(r\"C:\\Users\\SAKET NANDAN\\Documents\\current_hackathon\\bank_ruptcy\\Bankruptcy dataset\\4year.csv\")"
   ]
  },
  {
   "cell_type": "code",
   "execution_count": 68,
   "metadata": {},
   "outputs": [],
   "source": [
    "year_4=data[['Attr5','Attr9','Attr15','Attr21','Attr24','Attr27','Attr34','Attr35','Attr40','Attr46','Attr55','Attr58','class']] "
   ]
  },
  {
   "cell_type": "code",
   "execution_count": 69,
   "metadata": {},
   "outputs": [],
   "source": [
    "k1=year_4.columns.tolist()"
   ]
  },
  {
   "cell_type": "code",
   "execution_count": 70,
   "metadata": {},
   "outputs": [
    {
     "name": "stderr",
     "output_type": "stream",
     "text": [
      "C:\\Users\\SAKET NANDAN\\anaconda3\\lib\\site-packages\\ipykernel_launcher.py:3: SettingWithCopyWarning: \n",
      "A value is trying to be set on a copy of a slice from a DataFrame.\n",
      "Try using .loc[row_indexer,col_indexer] = value instead\n",
      "\n",
      "See the caveats in the documentation: https://pandas.pydata.org/pandas-docs/stable/user_guide/indexing.html#returning-a-view-versus-a-copy\n",
      "  This is separate from the ipykernel package so we can avoid doing imports until\n"
     ]
    }
   ],
   "source": [
    "#replacing each ? to NAN\n",
    "for i in k1:\n",
    "    year_4[i] = year_4[i].replace('?' , np.nan)"
   ]
  },
  {
   "cell_type": "code",
   "execution_count": 71,
   "metadata": {},
   "outputs": [],
   "source": [
    "#converting object data into numericals(float64)\n",
    "year_4=year_4.apply(lambda col:pd.to_numeric(col,errors='coerce'))"
   ]
  },
  {
   "cell_type": "code",
   "execution_count": 72,
   "metadata": {},
   "outputs": [
    {
     "data": {
      "text/plain": [
       "((6677, 12), (2862, 12))"
      ]
     },
     "execution_count": 72,
     "metadata": {},
     "output_type": "execute_result"
    }
   ],
   "source": [
    "# Let's divide into train and test set\n",
    "\n",
    "X_train, X_test, y_train, y_test = train_test_split(\n",
    "    year_4.drop(labels='class', axis=1),  # predictors\n",
    "    year_4['class'],  # target\n",
    "    test_size=0.3,\n",
    "    random_state=0)\n",
    "\n",
    "X_train.shape, X_test.shape"
   ]
  },
  {
   "cell_type": "code",
   "execution_count": 73,
   "metadata": {},
   "outputs": [],
   "source": [
    "# replacing null with mean imputer \n",
    "mean_imputer= mdi.MeanMedianImputer(imputation_method='mean', variables = year_4.drop(labels='class',axis=1).columns.tolist())"
   ]
  },
  {
   "cell_type": "code",
   "execution_count": 74,
   "metadata": {},
   "outputs": [
    {
     "data": {
      "text/plain": [
       "MeanMedianImputer(imputation_method='mean',\n",
       "                  variables=['Attr5', 'Attr9', 'Attr15', 'Attr21', 'Attr24',\n",
       "                             'Attr27', 'Attr34', 'Attr35', 'Attr40', 'Attr46',\n",
       "                             'Attr55', 'Attr58'])"
      ]
     },
     "execution_count": 74,
     "metadata": {},
     "output_type": "execute_result"
    }
   ],
   "source": [
    "mean_imputer.fit(X_train)"
   ]
  },
  {
   "cell_type": "code",
   "execution_count": 75,
   "metadata": {},
   "outputs": [],
   "source": [
    "# let's transform the data \n",
    "X_train_imp= mean_imputer.transform(X_train)\n",
    "X_test_imp= mean_imputer.transform(X_test)"
   ]
  },
  {
   "cell_type": "code",
   "execution_count": 76,
   "metadata": {},
   "outputs": [],
   "source": [
    "X_train_no_miss=X_train_imp.copy()\n",
    "X_test_no_miss=X_test_imp.copy()\n",
    "y_train_no_miss=y_train.copy()\n",
    "y_test_no_miss=y_test.copy()"
   ]
  },
  {
   "cell_type": "code",
   "execution_count": 77,
   "metadata": {},
   "outputs": [
    {
     "data": {
      "text/plain": [
       "StandardScaler(copy=True, with_mean=True, with_std=True)"
      ]
     },
     "execution_count": 77,
     "metadata": {},
     "output_type": "execute_result"
    }
   ],
   "source": [
    "#standardisation: with the StandardScaler from sklearn\n",
    "\n",
    "# set up the scaler\n",
    "scaler = StandardScaler()\n",
    "# fit the scaler to the train set, it will learn the parameters\n",
    "scaler.fit(X_train_no_miss)"
   ]
  },
  {
   "cell_type": "code",
   "execution_count": 78,
   "metadata": {},
   "outputs": [],
   "source": [
    "X_train_no_miss_scaled = scaler.transform(X_train_no_miss)\n",
    "X_test_no_miss_scaled = scaler.transform(X_test_no_miss)"
   ]
  },
  {
   "cell_type": "code",
   "execution_count": null,
   "metadata": {},
   "outputs": [],
   "source": []
  },
  {
   "cell_type": "markdown",
   "metadata": {},
   "source": [
    "##### over sampling using smote "
   ]
  },
  {
   "cell_type": "code",
   "execution_count": 79,
   "metadata": {},
   "outputs": [],
   "source": [
    "from imblearn.over_sampling import SMOTE\n",
    "sm = SMOTE(random_state = 2) \n",
    "X_train_res, y_train_res = sm.fit_sample(X_train_no_miss_scaled, y_train_no_miss.ravel())"
   ]
  },
  {
   "cell_type": "markdown",
   "metadata": {},
   "source": [
    "## ------------------------------------------model analysis ----------------------------------------------------"
   ]
  },
  {
   "cell_type": "code",
   "execution_count": 80,
   "metadata": {},
   "outputs": [],
   "source": [
    "X_tr=X_train_res.copy()\n",
    "X_ts=X_test_no_miss_scaled.copy()\n",
    "y_tr=y_train_res.copy()\n",
    "y_ts=y_test_no_miss.copy()"
   ]
  },
  {
   "cell_type": "code",
   "execution_count": 81,
   "metadata": {},
   "outputs": [],
   "source": [
    "names = [\"Logistic Regression\", \"Nearest Neighbors\", \"Naive Bayes\", \"Linear SVM\", \"RBF SVM\",\n",
    "          \"Decision Tree\", \"Random Forest\", \"AdaBoost\", \"Gradient Boosting\", \n",
    "         \"LDA\", \"QDA\", \"Neural Net\", \"LightGBM\", \"XGBoost\" ]"
   ]
  },
  {
   "cell_type": "code",
   "execution_count": 82,
   "metadata": {},
   "outputs": [],
   "source": [
    "classifiers = [\n",
    "    LogisticRegression(),\n",
    "    KNeighborsClassifier(7),\n",
    "    GaussianNB(),\n",
    "    SVC(kernel=\"linear\", C=0.025),\n",
    "    SVC(kernel = \"rbf\", gamma=2, C=1),\n",
    "    #GaussianProcessClassifier(1.0 * RBF(1.0)),\n",
    "    DecisionTreeClassifier(max_depth=5),\n",
    "    RandomForestClassifier(max_depth=5, n_estimators=10, max_features=1),\n",
    "    AdaBoostClassifier(),\n",
    "    GradientBoostingClassifier(),\n",
    "    LinearDiscriminantAnalysis(),\n",
    "    QuadraticDiscriminantAnalysis(),\n",
    "    MLPClassifier(alpha=1, max_iter=1000),\n",
    "    lgb.LGBMClassifier(),    \n",
    "    xgb.XGBClassifier()\n",
    "   ]"
   ]
  },
  {
   "cell_type": "code",
   "execution_count": 83,
   "metadata": {},
   "outputs": [
    {
     "name": "stdout",
     "output_type": "stream",
     "text": [
      "Logistic Regression  :  0.7212\n",
      "Nearest Neighbors  :  0.7998\n",
      "Naive Bayes  :  0.1017\n",
      "Linear SVM  :  0.8194\n",
      "RBF SVM  :  0.8022\n",
      "Decision Tree  :  0.8159\n",
      "Random Forest  :  0.8169\n",
      "AdaBoost  :  0.818\n",
      "Gradient Boosting  :  0.8805\n",
      "LDA  :  0.7635\n",
      "QDA  :  0.1115\n",
      "Neural Net  :  0.7275\n",
      "LightGBM  :  0.9312\n",
      "XGBoost  :  0.9507\n"
     ]
    }
   ],
   "source": [
    "accuracy_scores = []\n",
    "# iterate over classifiers and predict accuracy\n",
    "for name, clf in zip(names, classifiers):\n",
    "    clf.fit(X_tr, y_tr)\n",
    "    score = clf.score(X_ts, y_ts)\n",
    "    score = round(score, 4)\n",
    "    accuracy_scores.append(score)\n",
    "    print(name ,' : ' , score )\n"
   ]
  },
  {
   "cell_type": "code",
   "execution_count": 84,
   "metadata": {},
   "outputs": [
    {
     "name": "stdout",
     "output_type": "stream",
     "text": [
      "train set\n",
      "knn Classifier model accuracy score for train set : 0.8984\n",
      "test set\n",
      "knn Classifier model accuracy score for test set : 0.7802\n",
      "\n",
      "\n",
      "Confusion matrix\n",
      "\n",
      " [[2153  549]\n",
      " [  80   80]]\n",
      "\n",
      "True Positives(TP) =  2153\n",
      "\n",
      "True Negatives(TN) =  80\n",
      "\n",
      "False Positives(FP){type 1 error} =  549\n",
      "\n",
      "False Negatives(FN){type 2 error} =  80\n",
      "\n",
      "\n",
      "\n",
      "classification report\n",
      "              precision    recall  f1-score   support\n",
      "\n",
      "           0       0.96      0.80      0.87      2702\n",
      "           1       0.13      0.50      0.20       160\n",
      "\n",
      "    accuracy                           0.78      2862\n",
      "   macro avg       0.55      0.65      0.54      2862\n",
      "weighted avg       0.92      0.78      0.84      2862\n",
      "\n",
      "\n",
      "\n",
      "\n"
     ]
    },
    {
     "data": {
      "image/png": "[encoded data removed]",
      "text/plain": [
       "<Figure size 432x288 with 2 Axes>"
      ]
     },
     "metadata": {
      "needs_background": "light"
     },
     "output_type": "display_data"
    }
   ],
   "source": [
    "knn_clf = KNeighborsClassifier(11)\n",
    "\n",
    "knn_clf.fit(X_tr, y_tr)\n",
    "#predict train set \n",
    "print('train set')\n",
    "y1_pred = knn_clf.predict(X_tr)\n",
    "# print the accuracy\n",
    "print('knn Classifier model accuracy score for train set : {0:0.4f}'. format(accuracy_score(y_tr, y1_pred)))\n",
    "\n",
    "#-------------------------------------------------------------------------------------------------------------------------------\n",
    "\n",
    "#predict test set\n",
    "print('test set')\n",
    "y2_pred = knn_clf.predict(X_ts)\n",
    "# print the accuracy\n",
    "print('knn Classifier model accuracy score for test set : {0:0.4f}\\n\\n'. format(accuracy_score(y_ts, y2_pred)))\n",
    "\n",
    "#-------------------------------------------------confusion matrix-----------------------------------------------------------\n",
    "\n",
    "# print confusion-matrix\n",
    "\n",
    "cm = confusion_matrix(y_ts, y2_pred)\n",
    "\n",
    "print('Confusion matrix\\n\\n', cm)\n",
    "\n",
    "print('\\nTrue Positives(TP) = ', cm[0,0])\n",
    "\n",
    "print('\\nTrue Negatives(TN) = ', cm[1,1])\n",
    "\n",
    "print('\\nFalse Positives(FP){type 1 error} = ', cm[0,1])\n",
    "\n",
    "print('\\nFalse Negatives(FN){type 2 error} = ', cm[1,0])\n",
    "print('\\n\\n')\n",
    "\n",
    "#-------------------------------visualization of confusion matrix -----------------------------------------------------------\n",
    "\n",
    "# visualize confusion matrix with seaborn heatmap\n",
    "\n",
    "cm_matrix = pd.DataFrame(data=cm, columns=['Actual Positive:0', 'Actual Negative:1'], \n",
    "                                 index=['Predict Positive:0', 'Predict Negative:1'])\n",
    "\n",
    "sns.heatmap(cm_matrix, annot=True, fmt='d', cmap='YlGnBu')\n",
    "\n",
    "#----------------------------------classification report ----------------------------------------------------------------------\n",
    "print('classification report')\n",
    "print(classification_report(y_ts, y2_pred))\n",
    "print('\\n\\n')\n"
   ]
  },
  {
   "cell_type": "code",
   "execution_count": 85,
   "metadata": {},
   "outputs": [
    {
     "name": "stdout",
     "output_type": "stream",
     "text": [
      "train set\n",
      "support vector linear  Classifier model accuracy score for train set : 0.6571\n",
      "test set\n",
      "support vector linear Classifier model accuracy score for test set : 0.8194\n",
      "\n",
      "\n",
      "Confusion matrix\n",
      "\n",
      " [[2273  429]\n",
      " [  88   72]]\n",
      "\n",
      "True Positives(TP) =  2273\n",
      "\n",
      "True Negatives(TN) =  72\n",
      "\n",
      "False Positives(FP){type 1 error} =  429\n",
      "\n",
      "False Negatives(FN){type 2 error} =  88\n",
      "\n",
      "\n",
      "\n",
      "classification report\n",
      "              precision    recall  f1-score   support\n",
      "\n",
      "           0       0.96      0.84      0.90      2702\n",
      "           1       0.14      0.45      0.22       160\n",
      "\n",
      "    accuracy                           0.82      2862\n",
      "   macro avg       0.55      0.65      0.56      2862\n",
      "weighted avg       0.92      0.82      0.86      2862\n",
      "\n",
      "\n",
      "\n",
      "\n"
     ]
    },
    {
     "data": {
      "image/png": "[encoded data removed]",
      "text/plain": [
       "<Figure size 432x288 with 2 Axes>"
      ]
     },
     "metadata": {
      "needs_background": "light"
     },
     "output_type": "display_data"
    }
   ],
   "source": [
    "svl_clf = SVC(kernel=\"linear\", C=0.025)\n",
    "\n",
    "svl_clf.fit(X_tr, y_tr)\n",
    "#predict train set \n",
    "print('train set')\n",
    "y1_pred = svl_clf.predict(X_tr)\n",
    "# print the accuracy\n",
    "print('support vector linear  Classifier model accuracy score for train set : {0:0.4f}'. format(accuracy_score(y_tr, y1_pred)))\n",
    "\n",
    "#-------------------------------------------------------------------------------------------------------------------------------\n",
    "\n",
    "#predict test set\n",
    "print('test set')\n",
    "y2_pred = svl_clf.predict(X_ts)\n",
    "# print the accuracy\n",
    "print('support vector linear Classifier model accuracy score for test set : {0:0.4f}\\n\\n'. format(accuracy_score(y_ts, y2_pred)))\n",
    "\n",
    "#-------------------------------------------------confusion matrix-----------------------------------------------------------\n",
    "\n",
    "# print confusion-matrix\n",
    "\n",
    "cm = confusion_matrix(y_ts, y2_pred)\n",
    "\n",
    "print('Confusion matrix\\n\\n', cm)\n",
    "\n",
    "print('\\nTrue Positives(TP) = ', cm[0,0])\n",
    "\n",
    "print('\\nTrue Negatives(TN) = ', cm[1,1])\n",
    "\n",
    "print('\\nFalse Positives(FP){type 1 error} = ', cm[0,1])\n",
    "\n",
    "print('\\nFalse Negatives(FN){type 2 error} = ', cm[1,0])\n",
    "print('\\n\\n')\n",
    "\n",
    "#-------------------------------visualization of confusion matrix -----------------------------------------------------------\n",
    "\n",
    "# visualize confusion matrix with seaborn heatmap\n",
    "\n",
    "cm_matrix = pd.DataFrame(data=cm, columns=['Actual Positive:0', 'Actual Negative:1'], \n",
    "                                 index=['Predict Positive:0', 'Predict Negative:1'])\n",
    "\n",
    "sns.heatmap(cm_matrix, annot=True, fmt='d', cmap='YlGnBu')\n",
    "\n",
    "#----------------------------------classification report ----------------------------------------------------------------------\n",
    "print('classification report')\n",
    "print(classification_report(y_ts, y2_pred))\n",
    "print('\\n\\n')\n"
   ]
  },
  {
   "cell_type": "code",
   "execution_count": 86,
   "metadata": {},
   "outputs": [
    {
     "name": "stdout",
     "output_type": "stream",
     "text": [
      "train set\n",
      "XGBoosting Classifier model accuracy score for train set : 1.0000\n",
      "test set\n",
      "XGBoosting Classifier model accuracy score for test set : 0.9528\n",
      "\n",
      "\n",
      "Confusion matrix\n",
      "\n",
      " [[2630   72]\n",
      " [  63   97]]\n",
      "\n",
      "True Positives(TP) =  2630\n",
      "\n",
      "True Negatives(TN) =  97\n",
      "\n",
      "False Positives(FP){type 1 error} =  72\n",
      "\n",
      "False Negatives(FN){type 2 error} =  63\n",
      "\n",
      "\n",
      "\n",
      "classification report\n",
      "              precision    recall  f1-score   support\n",
      "\n",
      "           0       0.98      0.97      0.97      2702\n",
      "           1       0.57      0.61      0.59       160\n",
      "\n",
      "    accuracy                           0.95      2862\n",
      "   macro avg       0.78      0.79      0.78      2862\n",
      "weighted avg       0.95      0.95      0.95      2862\n",
      "\n",
      "\n",
      "\n",
      "\n"
     ]
    },
    {
     "data": {
      "image/png": "[encoded data removed]",
      "text/plain": [
       "<Figure size 432x288 with 2 Axes>"
      ]
     },
     "metadata": {
      "needs_background": "light"
     },
     "output_type": "display_data"
    }
   ],
   "source": [
    "xgb_clf = xgb.XGBClassifier(n_estimators=200)\n",
    "\n",
    "xgb_clf.fit(X_tr, y_tr)\n",
    "#predict train set \n",
    "print('train set')\n",
    "y1_pred = xgb_clf.predict(X_tr)\n",
    "# print the accuracy\n",
    "print('XGBoosting Classifier model accuracy score for train set : {0:0.4f}'. format(accuracy_score(y_tr, y1_pred)))\n",
    "\n",
    "#-------------------------------------------------------------------------------------------------------------------------------\n",
    "\n",
    "#predict test set\n",
    "print('test set')\n",
    "y2_pred = xgb_clf.predict(X_ts)\n",
    "# print the accuracy\n",
    "print('XGBoosting Classifier model accuracy score for test set : {0:0.4f}\\n\\n'. format(accuracy_score(y_ts, y2_pred)))\n",
    "\n",
    "#-------------------------------------------------confusion matrix-----------------------------------------------------------\n",
    "\n",
    "# print confusion-matrix\n",
    "\n",
    "cm = confusion_matrix(y_ts, y2_pred)\n",
    "\n",
    "print('Confusion matrix\\n\\n', cm)\n",
    "\n",
    "print('\\nTrue Positives(TP) = ', cm[0,0])\n",
    "\n",
    "print('\\nTrue Negatives(TN) = ', cm[1,1])\n",
    "\n",
    "print('\\nFalse Positives(FP){type 1 error} = ', cm[0,1])\n",
    "\n",
    "print('\\nFalse Negatives(FN){type 2 error} = ', cm[1,0])\n",
    "print('\\n\\n')\n",
    "\n",
    "#-------------------------------visualization of confusion matrix -----------------------------------------------------------\n",
    "\n",
    "# visualize confusion matrix with seaborn heatmap\n",
    "\n",
    "cm_matrix = pd.DataFrame(data=cm, columns=['Actual Positive:0', 'Actual Negative:1'], \n",
    "                                 index=['Predict Positive:0', 'Predict Negative:1'])\n",
    "\n",
    "sns.heatmap(cm_matrix, annot=True, fmt='d', cmap='YlGnBu')\n",
    "\n",
    "#----------------------------------classification report ----------------------------------------------------------------------\n",
    "print('classification report')\n",
    "print(classification_report(y_ts, y2_pred))\n",
    "print('\\n\\n')\n"
   ]
  },
  {
   "cell_type": "code",
   "execution_count": 87,
   "metadata": {},
   "outputs": [
    {
     "name": "stdout",
     "output_type": "stream",
     "text": [
      "train set\n",
      "LGBoosting Classifier model accuracy score for train set : 0.9881\n",
      "test set\n",
      "LGBoosting Classifier model accuracy score for test set : 0.9312\n",
      "\n",
      "\n",
      "Confusion matrix\n",
      "\n",
      " [[2571  131]\n",
      " [  66   94]]\n",
      "\n",
      "True Positives(TP) =  2571\n",
      "\n",
      "True Negatives(TN) =  94\n",
      "\n",
      "False Positives(FP){type 1 error} =  131\n",
      "\n",
      "False Negatives(FN){type 2 error} =  66\n",
      "\n",
      "\n",
      "\n",
      "classification report\n",
      "              precision    recall  f1-score   support\n",
      "\n",
      "           0       0.97      0.95      0.96      2702\n",
      "           1       0.42      0.59      0.49       160\n",
      "\n",
      "    accuracy                           0.93      2862\n",
      "   macro avg       0.70      0.77      0.73      2862\n",
      "weighted avg       0.94      0.93      0.94      2862\n",
      "\n",
      "\n",
      "\n",
      "\n"
     ]
    },
    {
     "data": {
      "image/png": "[encoded data removed]",
      "text/plain": [
       "<Figure size 432x288 with 2 Axes>"
      ]
     },
     "metadata": {
      "needs_background": "light"
     },
     "output_type": "display_data"
    }
   ],
   "source": [
    "lgb_clf = lgb.LGBMClassifier(n_esrimators=200)\n",
    "\n",
    "lgb_clf.fit(X_tr, y_tr)\n",
    "#predict train set \n",
    "print('train set')\n",
    "y1_pred = lgb_clf.predict(X_tr)\n",
    "# print the accuracy\n",
    "print('LGBoosting Classifier model accuracy score for train set : {0:0.4f}'. format(accuracy_score(y_tr, y1_pred)))\n",
    "\n",
    "#-------------------------------------------------------------------------------------------------------------------------------\n",
    "\n",
    "#predict test set\n",
    "print('test set')\n",
    "y2_pred = lgb_clf.predict(X_ts)\n",
    "# print the accuracy\n",
    "print('LGBoosting Classifier model accuracy score for test set : {0:0.4f}\\n\\n'. format(accuracy_score(y_ts, y2_pred)))\n",
    "\n",
    "#-------------------------------------------------confusion matrix-----------------------------------------------------------\n",
    "\n",
    "# print confusion-matrix\n",
    "\n",
    "cm = confusion_matrix(y_ts, y2_pred)\n",
    "\n",
    "print('Confusion matrix\\n\\n', cm)\n",
    "\n",
    "print('\\nTrue Positives(TP) = ', cm[0,0])\n",
    "\n",
    "print('\\nTrue Negatives(TN) = ', cm[1,1])\n",
    "\n",
    "print('\\nFalse Positives(FP){type 1 error} = ', cm[0,1])\n",
    "\n",
    "print('\\nFalse Negatives(FN){type 2 error} = ', cm[1,0])\n",
    "print('\\n\\n')\n",
    "\n",
    "#-------------------------------visualization of confusion matrix -----------------------------------------------------------\n",
    "\n",
    "# visualize confusion matrix with seaborn heatmap\n",
    "\n",
    "cm_matrix = pd.DataFrame(data=cm, columns=['Actual Positive:0', 'Actual Negative:1'], \n",
    "                                 index=['Predict Positive:0', 'Predict Negative:1'])\n",
    "\n",
    "sns.heatmap(cm_matrix, annot=True, fmt='d', cmap='YlGnBu')\n",
    "\n",
    "#----------------------------------classification report ----------------------------------------------------------------------\n",
    "print('classification report')\n",
    "print(classification_report(y_ts, y2_pred))\n",
    "print('\\n\\n')\n"
   ]
  },
  {
   "cell_type": "markdown",
   "metadata": {},
   "source": [
    "### i  m performing oversampling on original data without scaling becoz  w/o scaling is giving better result  "
   ]
  },
  {
   "cell_type": "code",
   "execution_count": 88,
   "metadata": {},
   "outputs": [],
   "source": [
    "from imblearn.over_sampling import SMOTE\n",
    "sm = SMOTE(random_state = 2) \n",
    "X_train_res, y_train_res = sm.fit_sample(X_train_no_miss, y_train_no_miss.ravel())"
   ]
  },
  {
   "cell_type": "code",
   "execution_count": 89,
   "metadata": {},
   "outputs": [],
   "source": [
    "X_tr=X_train_res.copy()\n",
    "X_ts=X_test_no_miss.copy()\n",
    "y_tr=y_train_res.copy()\n",
    "y_ts=y_test_no_miss.copy()"
   ]
  },
  {
   "cell_type": "code",
   "execution_count": 90,
   "metadata": {},
   "outputs": [
    {
     "name": "stdout",
     "output_type": "stream",
     "text": [
      "train set\n",
      "XGBoosting Classifier model accuracy score for train set : 1.0000\n",
      "test set\n",
      "XGBoosting Classifier model accuracy score for test set : 0.9500\n",
      "\n",
      "\n",
      "Confusion matrix\n",
      "\n",
      " [[2623   79]\n",
      " [  64   96]]\n",
      "\n",
      "True Positives(TP) =  2623\n",
      "\n",
      "True Negatives(TN) =  96\n",
      "\n",
      "False Positives(FP){type 1 error} =  79\n",
      "\n",
      "False Negatives(FN){type 2 error} =  64\n",
      "\n",
      "\n",
      "\n",
      "classification report\n",
      "              precision    recall  f1-score   support\n",
      "\n",
      "           0       0.98      0.97      0.97      2702\n",
      "           1       0.55      0.60      0.57       160\n",
      "\n",
      "    accuracy                           0.95      2862\n",
      "   macro avg       0.76      0.79      0.77      2862\n",
      "weighted avg       0.95      0.95      0.95      2862\n",
      "\n",
      "\n",
      "\n",
      "\n"
     ]
    },
    {
     "data": {
      "image/png": "[encoded data removed]",
      "text/plain": [
       "<Figure size 432x288 with 2 Axes>"
      ]
     },
     "metadata": {
      "needs_background": "light"
     },
     "output_type": "display_data"
    }
   ],
   "source": [
    "xgb_clf = xgb.XGBClassifier(n_estimators=200)\n",
    "\n",
    "xgb_clf.fit(X_tr, y_tr)\n",
    "#predict train set \n",
    "print('train set')\n",
    "y1_pred = xgb_clf.predict(X_tr)\n",
    "# print the accuracy\n",
    "print('XGBoosting Classifier model accuracy score for train set : {0:0.4f}'. format(accuracy_score(y_tr, y1_pred)))\n",
    "\n",
    "#-------------------------------------------------------------------------------------------------------------------------------\n",
    "\n",
    "#predict test set\n",
    "print('test set')\n",
    "y2_pred = xgb_clf.predict(X_ts)\n",
    "# print the accuracy\n",
    "print('XGBoosting Classifier model accuracy score for test set : {0:0.4f}\\n\\n'. format(accuracy_score(y_ts, y2_pred)))\n",
    "\n",
    "#-------------------------------------------------confusion matrix-----------------------------------------------------------\n",
    "\n",
    "# print confusion-matrix\n",
    "\n",
    "cm = confusion_matrix(y_ts, y2_pred)\n",
    "\n",
    "print('Confusion matrix\\n\\n', cm)\n",
    "\n",
    "print('\\nTrue Positives(TP) = ', cm[0,0])\n",
    "\n",
    "print('\\nTrue Negatives(TN) = ', cm[1,1])\n",
    "\n",
    "print('\\nFalse Positives(FP){type 1 error} = ', cm[0,1])\n",
    "\n",
    "print('\\nFalse Negatives(FN){type 2 error} = ', cm[1,0])\n",
    "print('\\n\\n')\n",
    "\n",
    "#-------------------------------visualization of confusion matrix -----------------------------------------------------------\n",
    "\n",
    "# visualize confusion matrix with seaborn heatmap\n",
    "\n",
    "cm_matrix = pd.DataFrame(data=cm, columns=['Actual Positive:0', 'Actual Negative:1'], \n",
    "                                 index=['Predict Positive:0', 'Predict Negative:1'])\n",
    "\n",
    "sns.heatmap(cm_matrix, annot=True, fmt='d', cmap='YlGnBu')\n",
    "\n",
    "#----------------------------------classification report ----------------------------------------------------------------------\n",
    "print('classification report')\n",
    "print(classification_report(y_ts, y2_pred))\n",
    "print('\\n\\n')\n"
   ]
  },
  {
   "cell_type": "code",
   "execution_count": 91,
   "metadata": {},
   "outputs": [
    {
     "name": "stdout",
     "output_type": "stream",
     "text": [
      "train set\n",
      "LGBoosting Classifier model accuracy score for train set : 0.9986\n",
      "test set\n",
      "LGBoosting Classifier model accuracy score for test set : 0.9399\n",
      "\n",
      "\n",
      "Confusion matrix\n",
      "\n",
      " [[2599  103]\n",
      " [  69   91]]\n",
      "\n",
      "True Positives(TP) =  2599\n",
      "\n",
      "True Negatives(TN) =  91\n",
      "\n",
      "False Positives(FP){type 1 error} =  103\n",
      "\n",
      "False Negatives(FN){type 2 error} =  69\n",
      "\n",
      "\n",
      "\n",
      "classification report\n",
      "              precision    recall  f1-score   support\n",
      "\n",
      "           0       0.97      0.96      0.97      2702\n",
      "           1       0.47      0.57      0.51       160\n",
      "\n",
      "    accuracy                           0.94      2862\n",
      "   macro avg       0.72      0.77      0.74      2862\n",
      "weighted avg       0.95      0.94      0.94      2862\n",
      "\n",
      "\n",
      "\n",
      "\n"
     ]
    },
    {
     "data": {
      "image/png": "[encoded data removed]",
      "text/plain": [
       "<Figure size 432x288 with 2 Axes>"
      ]
     },
     "metadata": {
      "needs_background": "light"
     },
     "output_type": "display_data"
    }
   ],
   "source": [
    "lgb_clf = lgb.LGBMClassifier(n_estimators=200)\n",
    "\n",
    "lgb_clf.fit(X_tr, y_tr)\n",
    "#predict train set \n",
    "print('train set')\n",
    "y1_pred = lgb_clf.predict(X_tr)\n",
    "# print the accuracy\n",
    "print('LGBoosting Classifier model accuracy score for train set : {0:0.4f}'. format(accuracy_score(y_tr, y1_pred)))\n",
    "\n",
    "#-------------------------------------------------------------------------------------------------------------------------------\n",
    "\n",
    "#predict test set\n",
    "print('test set')\n",
    "y2_pred = lgb_clf.predict(X_ts)\n",
    "# print the accuracy\n",
    "print('LGBoosting Classifier model accuracy score for test set : {0:0.4f}\\n\\n'. format(accuracy_score(y_ts, y2_pred)))\n",
    "\n",
    "#-------------------------------------------------confusion matrix-----------------------------------------------------------\n",
    "\n",
    "# print confusion-matrix\n",
    "\n",
    "cm = confusion_matrix(y_ts, y2_pred)\n",
    "\n",
    "print('Confusion matrix\\n\\n', cm)\n",
    "\n",
    "print('\\nTrue Positives(TP) = ', cm[0,0])\n",
    "\n",
    "print('\\nTrue Negatives(TN) = ', cm[1,1])\n",
    "\n",
    "print('\\nFalse Positives(FP){type 1 error} = ', cm[0,1])\n",
    "\n",
    "print('\\nFalse Negatives(FN){type 2 error} = ', cm[1,0])\n",
    "print('\\n\\n')\n",
    "\n",
    "#-------------------------------visualization of confusion matrix -----------------------------------------------------------\n",
    "\n",
    "# visualize confusion matrix with seaborn heatmap\n",
    "\n",
    "cm_matrix = pd.DataFrame(data=cm, columns=['Actual Positive:0', 'Actual Negative:1'], \n",
    "                                 index=['Predict Positive:0', 'Predict Negative:1'])\n",
    "\n",
    "sns.heatmap(cm_matrix, annot=True, fmt='d', cmap='YlGnBu')\n",
    "\n",
    "#----------------------------------classification report ----------------------------------------------------------------------\n",
    "print('classification report')\n",
    "print(classification_report(y_ts, y2_pred))\n",
    "print('\\n\\n')\n"
   ]
  },
  {
   "cell_type": "markdown",
   "metadata": {},
   "source": [
    "##### conclusion:- till now best result i found with XGBoosting algorithm and i will deploye first year data model based on the XGboosting algo only "
   ]
  },
  {
   "cell_type": "code",
   "execution_count": null,
   "metadata": {},
   "outputs": [],
   "source": []
  }
 ],
 "metadata": {
  "kernelspec": {
   "display_name": "Python 3",
   "language": "python",
   "name": "python3"
  },
  "language_info": {
   "codemirror_mode": {
    "name": "ipython",
    "version": 3
   },
   "file_extension": ".py",
   "mimetype": "text/x-python",
   "name": "python",
   "nbconvert_exporter": "python",
   "pygments_lexer": "ipython3",
   "version": "3.7.6"
  }
 },
 "nbformat": 4,
 "nbformat_minor": 4
}
