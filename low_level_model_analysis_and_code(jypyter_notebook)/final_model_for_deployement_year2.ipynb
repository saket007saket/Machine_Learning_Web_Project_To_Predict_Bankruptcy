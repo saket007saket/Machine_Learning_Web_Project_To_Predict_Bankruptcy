{
 "cells": [
  {
   "cell_type": "code",
   "execution_count": 24,
   "metadata": {},
   "outputs": [],
   "source": [
    "import pandas as pd \n",
    "import numpy as np"
   ]
  },
  {
   "cell_type": "code",
   "execution_count": 25,
   "metadata": {},
   "outputs": [
    {
     "name": "stderr",
     "output_type": "stream",
     "text": [
      "C:\\Users\\sak\\anaconda3\\lib\\site-packages\\IPython\\core\\interactiveshell.py:3063: DtypeWarning: Columns (0,1,2,5,6,8,9,10,13,17,21,23,24,28,34,35,37,47,50,54,56,58) have mixed types.Specify dtype option on import or set low_memory=False.\n",
      "  interactivity=interactivity, compiler=compiler, result=result)\n"
     ]
    }
   ],
   "source": [
    "data=pd.read_csv(r\"C:\\Users\\sak\\Documents\\current_hackathon\\bank_ruptcy\\Bankruptcy dataset\\2year.csv\")"
   ]
  },
  {
   "cell_type": "markdown",
   "metadata": {},
   "source": [
    "###### above feature set i have gone through some feature engineering steps\n",
    "###### missing imputation------>gaussian transformation ----->decision tree descritisation------>scaling --->feature selection\n",
    "[['Attr5', 'Attr6', 'Attr8', 'Attr12', 'Attr21', 'Attr22', 'Attr24', 'Attr27', 'Attr28', 'Attr34', 'Attr35', 'Attr40', 'Attr42', 'Attr46', 'Attr51', 'Attr53', 'Attr54', 'Attr56', 'Attr58']] i got these features\n",
    "\n",
    "###### but important analysis i found that feature set using these above feature engineering steps giving best result on original data aftter imputation only"
   ]
  },
  {
   "cell_type": "code",
   "execution_count": 26,
   "metadata": {},
   "outputs": [],
   "source": [
    "year_2 = data[['Attr5', 'Attr6', 'Attr8', 'Attr12', 'Attr21', 'Attr22', 'Attr24', 'Attr27', 'Attr28', 'Attr34', 'Attr35', 'Attr40', 'Attr42', 'Attr46', 'Attr51', 'Attr53', 'Attr54', 'Attr56', 'Attr58','class']]"
   ]
  },
  {
   "cell_type": "code",
   "execution_count": 27,
   "metadata": {},
   "outputs": [],
   "source": [
    "k1=year_2.columns.tolist()"
   ]
  },
  {
   "cell_type": "code",
   "execution_count": 28,
   "metadata": {},
   "outputs": [
    {
     "name": "stderr",
     "output_type": "stream",
     "text": [
      "C:\\Users\\sak\\anaconda3\\lib\\site-packages\\ipykernel_launcher.py:3: SettingWithCopyWarning: \n",
      "A value is trying to be set on a copy of a slice from a DataFrame.\n",
      "Try using .loc[row_indexer,col_indexer] = value instead\n",
      "\n",
      "See the caveats in the documentation: https://pandas.pydata.org/pandas-docs/stable/user_guide/indexing.html#returning-a-view-versus-a-copy\n",
      "  This is separate from the ipykernel package so we can avoid doing imports until\n"
     ]
    }
   ],
   "source": [
    "#replacing each ? to NAN\n",
    "for i in k1:\n",
    "    year_2[i] = year_2[i].replace('?' , np.nan)"
   ]
  },
  {
   "cell_type": "code",
   "execution_count": 29,
   "metadata": {},
   "outputs": [],
   "source": [
    "#converting object data into numericals(float64)\n",
    "year_2=year_2.apply(lambda col:pd.to_numeric(col,errors='coerce'))"
   ]
  },
  {
   "cell_type": "code",
   "execution_count": 30,
   "metadata": {},
   "outputs": [
    {
     "data": {
      "text/html": [
       "<div>\n",
       "<style scoped>\n",
       "    .dataframe tbody tr th:only-of-type {\n",
       "        vertical-align: middle;\n",
       "    }\n",
       "\n",
       "    .dataframe tbody tr th {\n",
       "        vertical-align: top;\n",
       "    }\n",
       "\n",
       "    .dataframe thead th {\n",
       "        text-align: right;\n",
       "    }\n",
       "</style>\n",
       "<table border=\"1\" class=\"dataframe\">\n",
       "  <thead>\n",
       "    <tr style=\"text-align: right;\">\n",
       "      <th></th>\n",
       "      <th>Attr5</th>\n",
       "      <th>Attr6</th>\n",
       "      <th>Attr8</th>\n",
       "      <th>Attr12</th>\n",
       "      <th>Attr21</th>\n",
       "      <th>Attr22</th>\n",
       "      <th>Attr24</th>\n",
       "      <th>Attr27</th>\n",
       "      <th>Attr28</th>\n",
       "      <th>Attr34</th>\n",
       "      <th>Attr35</th>\n",
       "      <th>Attr40</th>\n",
       "      <th>Attr42</th>\n",
       "      <th>Attr46</th>\n",
       "      <th>Attr51</th>\n",
       "      <th>Attr53</th>\n",
       "      <th>Attr54</th>\n",
       "      <th>Attr56</th>\n",
       "      <th>Attr58</th>\n",
       "      <th>class</th>\n",
       "    </tr>\n",
       "  </thead>\n",
       "  <tbody>\n",
       "    <tr>\n",
       "      <th>0</th>\n",
       "      <td>-14.54700</td>\n",
       "      <td>0.510690</td>\n",
       "      <td>0.918160</td>\n",
       "      <td>0.545610</td>\n",
       "      <td>1.08060</td>\n",
       "      <td>0.223490</td>\n",
       "      <td>0.631050</td>\n",
       "      <td>1.63450</td>\n",
       "      <td>0.815590</td>\n",
       "      <td>0.480630</td>\n",
       "      <td>0.223490</td>\n",
       "      <td>0.464890</td>\n",
       "      <td>0.141900</td>\n",
       "      <td>1.12070</td>\n",
       "      <td>0.46490</td>\n",
       "      <td>1.44860</td>\n",
       "      <td>1.44900</td>\n",
       "      <td>0.131840</td>\n",
       "      <td>0.86816</td>\n",
       "      <td>0</td>\n",
       "    </tr>\n",
       "    <tr>\n",
       "      <th>1</th>\n",
       "      <td>-37.85900</td>\n",
       "      <td>-0.000319</td>\n",
       "      <td>0.678900</td>\n",
       "      <td>0.075493</td>\n",
       "      <td>NaN</td>\n",
       "      <td>0.042196</td>\n",
       "      <td>NaN</td>\n",
       "      <td>79.75200</td>\n",
       "      <td>0.714320</td>\n",
       "      <td>0.477250</td>\n",
       "      <td>0.039298</td>\n",
       "      <td>0.028211</td>\n",
       "      <td>0.130410</td>\n",
       "      <td>0.95419</td>\n",
       "      <td>0.55197</td>\n",
       "      <td>1.54730</td>\n",
       "      <td>1.54730</td>\n",
       "      <td>0.121460</td>\n",
       "      <td>0.87235</td>\n",
       "      <td>0</td>\n",
       "    </tr>\n",
       "    <tr>\n",
       "      <th>2</th>\n",
       "      <td>71.79900</td>\n",
       "      <td>0.000000</td>\n",
       "      <td>2.332000</td>\n",
       "      <td>1.064400</td>\n",
       "      <td>1.11460</td>\n",
       "      <td>0.304660</td>\n",
       "      <td>NaN</td>\n",
       "      <td>52.88600</td>\n",
       "      <td>18.836000</td>\n",
       "      <td>4.673400</td>\n",
       "      <td>0.276560</td>\n",
       "      <td>0.179420</td>\n",
       "      <td>0.181750</td>\n",
       "      <td>1.92920</td>\n",
       "      <td>0.29949</td>\n",
       "      <td>19.77700</td>\n",
       "      <td>19.77700</td>\n",
       "      <td>0.164990</td>\n",
       "      <td>0.81614</td>\n",
       "      <td>0</td>\n",
       "    </tr>\n",
       "    <tr>\n",
       "      <th>3</th>\n",
       "      <td>-88.21200</td>\n",
       "      <td>0.000000</td>\n",
       "      <td>0.473840</td>\n",
       "      <td>0.551560</td>\n",
       "      <td>1.27040</td>\n",
       "      <td>0.379470</td>\n",
       "      <td>NaN</td>\n",
       "      <td>3.95210</td>\n",
       "      <td>0.097146</td>\n",
       "      <td>1.378600</td>\n",
       "      <td>0.388740</td>\n",
       "      <td>0.087377</td>\n",
       "      <td>0.286580</td>\n",
       "      <td>0.59298</td>\n",
       "      <td>0.51680</td>\n",
       "      <td>0.73000</td>\n",
       "      <td>1.08370</td>\n",
       "      <td>0.293580</td>\n",
       "      <td>0.78617</td>\n",
       "      <td>0</td>\n",
       "    </tr>\n",
       "    <tr>\n",
       "      <th>4</th>\n",
       "      <td>21.73100</td>\n",
       "      <td>0.187900</td>\n",
       "      <td>1.371400</td>\n",
       "      <td>0.284520</td>\n",
       "      <td>1.35960</td>\n",
       "      <td>0.188340</td>\n",
       "      <td>0.226020</td>\n",
       "      <td>1.34420</td>\n",
       "      <td>1.379700</td>\n",
       "      <td>0.495140</td>\n",
       "      <td>0.188340</td>\n",
       "      <td>0.201730</td>\n",
       "      <td>0.120810</td>\n",
       "      <td>1.22580</td>\n",
       "      <td>0.38039</td>\n",
       "      <td>2.00350</td>\n",
       "      <td>2.00350</td>\n",
       "      <td>0.101240</td>\n",
       "      <td>0.89876</td>\n",
       "      <td>0</td>\n",
       "    </tr>\n",
       "    <tr>\n",
       "      <th>...</th>\n",
       "      <td>...</td>\n",
       "      <td>...</td>\n",
       "      <td>...</td>\n",
       "      <td>...</td>\n",
       "      <td>...</td>\n",
       "      <td>...</td>\n",
       "      <td>...</td>\n",
       "      <td>...</td>\n",
       "      <td>...</td>\n",
       "      <td>...</td>\n",
       "      <td>...</td>\n",
       "      <td>...</td>\n",
       "      <td>...</td>\n",
       "      <td>...</td>\n",
       "      <td>...</td>\n",
       "      <td>...</td>\n",
       "      <td>...</td>\n",
       "      <td>...</td>\n",
       "      <td>...</td>\n",
       "      <td>...</td>\n",
       "    </tr>\n",
       "    <tr>\n",
       "      <th>10168</th>\n",
       "      <td>-105.55000</td>\n",
       "      <td>0.029970</td>\n",
       "      <td>0.482740</td>\n",
       "      <td>0.064770</td>\n",
       "      <td>0.81828</td>\n",
       "      <td>0.051694</td>\n",
       "      <td>0.038888</td>\n",
       "      <td>NaN</td>\n",
       "      <td>0.198710</td>\n",
       "      <td>0.077379</td>\n",
       "      <td>0.051694</td>\n",
       "      <td>0.014852</td>\n",
       "      <td>0.045344</td>\n",
       "      <td>0.49611</td>\n",
       "      <td>0.60040</td>\n",
       "      <td>0.96742</td>\n",
       "      <td>1.17040</td>\n",
       "      <td>0.028377</td>\n",
       "      <td>0.97162</td>\n",
       "      <td>1</td>\n",
       "    </tr>\n",
       "    <tr>\n",
       "      <th>10169</th>\n",
       "      <td>-24.80100</td>\n",
       "      <td>0.012843</td>\n",
       "      <td>0.905900</td>\n",
       "      <td>0.030465</td>\n",
       "      <td>0.96468</td>\n",
       "      <td>0.036725</td>\n",
       "      <td>0.012843</td>\n",
       "      <td>NaN</td>\n",
       "      <td>-0.217330</td>\n",
       "      <td>0.074484</td>\n",
       "      <td>0.036725</td>\n",
       "      <td>0.288930</td>\n",
       "      <td>0.009564</td>\n",
       "      <td>0.43181</td>\n",
       "      <td>0.42156</td>\n",
       "      <td>0.60436</td>\n",
       "      <td>0.70111</td>\n",
       "      <td>0.014247</td>\n",
       "      <td>0.98575</td>\n",
       "      <td>1</td>\n",
       "    </tr>\n",
       "    <tr>\n",
       "      <th>10170</th>\n",
       "      <td>-85.57100</td>\n",
       "      <td>0.015092</td>\n",
       "      <td>0.694880</td>\n",
       "      <td>0.017746</td>\n",
       "      <td>1.26500</td>\n",
       "      <td>0.018633</td>\n",
       "      <td>0.009826</td>\n",
       "      <td>NaN</td>\n",
       "      <td>-0.389370</td>\n",
       "      <td>0.033417</td>\n",
       "      <td>0.018633</td>\n",
       "      <td>0.006711</td>\n",
       "      <td>0.010534</td>\n",
       "      <td>0.27375</td>\n",
       "      <td>0.55368</td>\n",
       "      <td>0.53011</td>\n",
       "      <td>0.53546</td>\n",
       "      <td>0.005971</td>\n",
       "      <td>0.99403</td>\n",
       "      <td>1</td>\n",
       "    </tr>\n",
       "    <tr>\n",
       "      <th>10171</th>\n",
       "      <td>0.95483</td>\n",
       "      <td>-0.002554</td>\n",
       "      <td>1.114400</td>\n",
       "      <td>0.003791</td>\n",
       "      <td>0.64299</td>\n",
       "      <td>-0.020174</td>\n",
       "      <td>0.001785</td>\n",
       "      <td>NaN</td>\n",
       "      <td>4.029500</td>\n",
       "      <td>-0.042854</td>\n",
       "      <td>-0.020174</td>\n",
       "      <td>0.022033</td>\n",
       "      <td>-0.007548</td>\n",
       "      <td>1.01760</td>\n",
       "      <td>0.47076</td>\n",
       "      <td>4.98570</td>\n",
       "      <td>4.98570</td>\n",
       "      <td>-0.007122</td>\n",
       "      <td>1.00710</td>\n",
       "      <td>1</td>\n",
       "    </tr>\n",
       "    <tr>\n",
       "      <th>10172</th>\n",
       "      <td>-119.92000</td>\n",
       "      <td>0.015226</td>\n",
       "      <td>0.059818</td>\n",
       "      <td>0.002213</td>\n",
       "      <td>0.58677</td>\n",
       "      <td>0.055467</td>\n",
       "      <td>0.017617</td>\n",
       "      <td>0.84534</td>\n",
       "      <td>-0.679870</td>\n",
       "      <td>1.824400</td>\n",
       "      <td>0.055389</td>\n",
       "      <td>0.019268</td>\n",
       "      <td>0.031251</td>\n",
       "      <td>0.47484</td>\n",
       "      <td>0.93614</td>\n",
       "      <td>0.28468</td>\n",
       "      <td>0.32249</td>\n",
       "      <td>0.031154</td>\n",
       "      <td>0.96220</td>\n",
       "      <td>1</td>\n",
       "    </tr>\n",
       "  </tbody>\n",
       "</table>\n",
       "<p>10173 rows × 20 columns</p>\n",
       "</div>"
      ],
      "text/plain": [
       "           Attr5     Attr6     Attr8    Attr12   Attr21    Attr22    Attr24  \\\n",
       "0      -14.54700  0.510690  0.918160  0.545610  1.08060  0.223490  0.631050   \n",
       "1      -37.85900 -0.000319  0.678900  0.075493      NaN  0.042196       NaN   \n",
       "2       71.79900  0.000000  2.332000  1.064400  1.11460  0.304660       NaN   \n",
       "3      -88.21200  0.000000  0.473840  0.551560  1.27040  0.379470       NaN   \n",
       "4       21.73100  0.187900  1.371400  0.284520  1.35960  0.188340  0.226020   \n",
       "...          ...       ...       ...       ...      ...       ...       ...   \n",
       "10168 -105.55000  0.029970  0.482740  0.064770  0.81828  0.051694  0.038888   \n",
       "10169  -24.80100  0.012843  0.905900  0.030465  0.96468  0.036725  0.012843   \n",
       "10170  -85.57100  0.015092  0.694880  0.017746  1.26500  0.018633  0.009826   \n",
       "10171    0.95483 -0.002554  1.114400  0.003791  0.64299 -0.020174  0.001785   \n",
       "10172 -119.92000  0.015226  0.059818  0.002213  0.58677  0.055467  0.017617   \n",
       "\n",
       "         Attr27     Attr28    Attr34    Attr35    Attr40    Attr42   Attr46  \\\n",
       "0       1.63450   0.815590  0.480630  0.223490  0.464890  0.141900  1.12070   \n",
       "1      79.75200   0.714320  0.477250  0.039298  0.028211  0.130410  0.95419   \n",
       "2      52.88600  18.836000  4.673400  0.276560  0.179420  0.181750  1.92920   \n",
       "3       3.95210   0.097146  1.378600  0.388740  0.087377  0.286580  0.59298   \n",
       "4       1.34420   1.379700  0.495140  0.188340  0.201730  0.120810  1.22580   \n",
       "...         ...        ...       ...       ...       ...       ...      ...   \n",
       "10168       NaN   0.198710  0.077379  0.051694  0.014852  0.045344  0.49611   \n",
       "10169       NaN  -0.217330  0.074484  0.036725  0.288930  0.009564  0.43181   \n",
       "10170       NaN  -0.389370  0.033417  0.018633  0.006711  0.010534  0.27375   \n",
       "10171       NaN   4.029500 -0.042854 -0.020174  0.022033 -0.007548  1.01760   \n",
       "10172   0.84534  -0.679870  1.824400  0.055389  0.019268  0.031251  0.47484   \n",
       "\n",
       "        Attr51    Attr53    Attr54    Attr56   Attr58  class  \n",
       "0      0.46490   1.44860   1.44900  0.131840  0.86816      0  \n",
       "1      0.55197   1.54730   1.54730  0.121460  0.87235      0  \n",
       "2      0.29949  19.77700  19.77700  0.164990  0.81614      0  \n",
       "3      0.51680   0.73000   1.08370  0.293580  0.78617      0  \n",
       "4      0.38039   2.00350   2.00350  0.101240  0.89876      0  \n",
       "...        ...       ...       ...       ...      ...    ...  \n",
       "10168  0.60040   0.96742   1.17040  0.028377  0.97162      1  \n",
       "10169  0.42156   0.60436   0.70111  0.014247  0.98575      1  \n",
       "10170  0.55368   0.53011   0.53546  0.005971  0.99403      1  \n",
       "10171  0.47076   4.98570   4.98570 -0.007122  1.00710      1  \n",
       "10172  0.93614   0.28468   0.32249  0.031154  0.96220      1  \n",
       "\n",
       "[10173 rows x 20 columns]"
      ]
     },
     "execution_count": 30,
     "metadata": {},
     "output_type": "execute_result"
    }
   ],
   "source": [
    "year_2"
   ]
  },
  {
   "cell_type": "markdown",
   "metadata": {},
   "source": [
    "#####  so here i m building model on entire dataset for , so i m not divinding into train and test dataset , so that i do have ample amount of data to train our model more accurately  "
   ]
  },
  {
   "cell_type": "code",
   "execution_count": 31,
   "metadata": {},
   "outputs": [],
   "source": [
    "predictors=['Attr5', 'Attr6', 'Attr8', 'Attr12', 'Attr21', 'Attr22', 'Attr24', 'Attr27', 'Attr28', 'Attr34', 'Attr35', 'Attr40', 'Attr42', 'Attr46', 'Attr51', 'Attr53', 'Attr54', 'Attr56', 'Attr58']\n",
    "target=['class']\n",
    "X=year_2[predictors]\n",
    "y=year_2[target]"
   ]
  },
  {
   "cell_type": "code",
   "execution_count": 32,
   "metadata": {},
   "outputs": [],
   "source": [
    "#X\n",
    "#y"
   ]
  },
  {
   "cell_type": "code",
   "execution_count": 33,
   "metadata": {},
   "outputs": [],
   "source": [
    "from sklearn.impute import SimpleImputer"
   ]
  },
  {
   "cell_type": "code",
   "execution_count": 34,
   "metadata": {},
   "outputs": [],
   "source": [
    "# Now we impute the missing values with SimpleImputer\n",
    "\n",
    "# create an instance of the simple imputer\n",
    "# we indicate that we want to impute with the median\n",
    "mean_imputer = SimpleImputer(strategy='mean',)\n",
    "\n",
    "# we fit and transform the predictors dataframe\n",
    "# the imputer will learn the mean of all variables\n",
    "X_new=mean_imputer.fit_transform(X[predictors])"
   ]
  },
  {
   "cell_type": "code",
   "execution_count": 35,
   "metadata": {},
   "outputs": [],
   "source": [
    "y_1=y.copy()\n",
    "X_1=pd.DataFrame(X_new, columns=predictors)"
   ]
  },
  {
   "cell_type": "markdown",
   "metadata": {},
   "source": [
    "##### over sampling through SMOTE is performed "
   ]
  },
  {
   "cell_type": "code",
   "execution_count": 36,
   "metadata": {},
   "outputs": [],
   "source": [
    "from imblearn.over_sampling import SMOTE\n",
    "sm = SMOTE(random_state = 2) \n",
    "X_res, y_res = sm.fit_sample(X_1, y_1)"
   ]
  },
  {
   "cell_type": "code",
   "execution_count": 37,
   "metadata": {},
   "outputs": [
    {
     "data": {
      "text/plain": [
       "19546"
      ]
     },
     "execution_count": 37,
     "metadata": {},
     "output_type": "execute_result"
    }
   ],
   "source": [
    "len(X_res)"
   ]
  },
  {
   "cell_type": "code",
   "execution_count": 38,
   "metadata": {},
   "outputs": [
    {
     "data": {
      "text/plain": [
       "19546"
      ]
     },
     "execution_count": 38,
     "metadata": {},
     "output_type": "execute_result"
    }
   ],
   "source": [
    "len(y_res)"
   ]
  },
  {
   "cell_type": "markdown",
   "metadata": {},
   "source": [
    "###### Note:- since , i have not splited my data into train-test dataset so my independent and dependent data are in pandas dataframe so in order to implement in XGBoostingClassifier algo in pickled , model will not take dataframe data as input to predict , so i need to convert X(input data ) into numpy array , i m not converting y into numpy array¶"
   ]
  },
  {
   "cell_type": "code",
   "execution_count": 39,
   "metadata": {},
   "outputs": [
    {
     "data": {
      "text/plain": [
       "pandas.core.frame.DataFrame"
      ]
     },
     "execution_count": 39,
     "metadata": {},
     "output_type": "execute_result"
    }
   ],
   "source": [
    "#type(X_res)\n",
    "type(y_res)"
   ]
  },
  {
   "cell_type": "code",
   "execution_count": 40,
   "metadata": {},
   "outputs": [],
   "source": [
    "X=np.array(X_res)\n",
    "y=np.array(y_res)"
   ]
  },
  {
   "cell_type": "code",
   "execution_count": 41,
   "metadata": {},
   "outputs": [],
   "source": [
    "#type(X)\n",
    "#type(y)"
   ]
  },
  {
   "cell_type": "code",
   "execution_count": 42,
   "metadata": {},
   "outputs": [],
   "source": [
    "import seaborn as sns\n",
    "import xgboost as xgb\n",
    "# Classification metrices\n",
    "from sklearn.metrics import accuracy_score,confusion_matrix, classification_report, precision_score,recall_score,f1_score"
   ]
  },
  {
   "cell_type": "code",
   "execution_count": 43,
   "metadata": {},
   "outputs": [
    {
     "data": {
      "text/plain": [
       "'1.1.1'"
      ]
     },
     "execution_count": 43,
     "metadata": {},
     "output_type": "execute_result"
    }
   ],
   "source": [
    "xgb.__version__"
   ]
  },
  {
   "cell_type": "markdown",
   "metadata": {},
   "source": [
    "#### functionalizing the model "
   ]
  },
  {
   "cell_type": "code",
   "execution_count": 44,
   "metadata": {},
   "outputs": [],
   "source": [
    "from sklearn import model_selection\n",
    "from sklearn.model_selection import train_test_split\n",
    "from sklearn.model_selection import KFold\n",
    "from sklearn.model_selection import cross_val_score\n",
    "from sklearn.model_selection import GridSearchCV\n",
    "from xgboost import XGBClassifier\n",
    "import pickle"
   ]
  },
  {
   "cell_type": "code",
   "execution_count": 45,
   "metadata": {},
   "outputs": [],
   "source": [
    "# Functionalize model fittting\n",
    "\n",
    "def FitModel(X,Y,algo_name,algorithm,gridSearchParams,cv):\n",
    "    np.random.seed(10)\n",
    "    x_train,x_test,y_train,y_test = train_test_split(X,Y, test_size = 0.2)\n",
    "    \n",
    "    \n",
    "    grid = GridSearchCV(\n",
    "        estimator=algorithm,\n",
    "        param_grid=gridSearchParams,\n",
    "        cv=cv, scoring='accuracy', verbose=1, n_jobs=-1)\n",
    "    \n",
    "    \n",
    "    grid_result = grid.fit(x_train, y_train)\n",
    "    best_params = grid_result.best_params_\n",
    "    pred = grid_result.predict(x_test)\n",
    "    cm = confusion_matrix(y_test, pred)\n",
    "   # metrics =grid_result.gr\n",
    "    print(pred)\n",
    "    pickle.dump(grid_result,open(algo_name,'wb'))\n",
    "   \n",
    "    print('Best Params :',best_params)\n",
    "    print('Classification Report :',classification_report(y_test,pred))\n",
    "    print('Accuracy Score : ' + str(accuracy_score(y_test,pred)))\n",
    "    print('Confusion Matrix : \\n', cm)"
   ]
  },
  {
   "cell_type": "code",
   "execution_count": 46,
   "metadata": {},
   "outputs": [
    {
     "name": "stdout",
     "output_type": "stream",
     "text": [
      "Fitting 5 folds for each of 5 candidates, totalling 25 fits\n"
     ]
    },
    {
     "name": "stderr",
     "output_type": "stream",
     "text": [
      "[Parallel(n_jobs=-1)]: Using backend LokyBackend with 4 concurrent workers.\n",
      "[Parallel(n_jobs=-1)]: Done  25 out of  25 | elapsed:  6.1min finished\n",
      "C:\\Users\\sak\\anaconda3\\lib\\site-packages\\sklearn\\utils\\validation.py:73: DataConversionWarning: A column-vector y was passed when a 1d array was expected. Please change the shape of y to (n_samples, ), for example using ravel().\n",
      "  return f(**kwargs)\n"
     ]
    },
    {
     "name": "stdout",
     "output_type": "stream",
     "text": [
      "[0 1 1 ... 1 0 0]\n",
      "Best Params : {'n_estimators': 500}\n",
      "Classification Report :               precision    recall  f1-score   support\n",
      "\n",
      "           0       0.99      0.98      0.99      1930\n",
      "           1       0.98      0.99      0.99      1980\n",
      "\n",
      "    accuracy                           0.99      3910\n",
      "   macro avg       0.99      0.99      0.99      3910\n",
      "weighted avg       0.99      0.99      0.99      3910\n",
      "\n",
      "Accuracy Score : 0.9890025575447571\n",
      "Confusion Matrix : \n",
      " [[1897   33]\n",
      " [  10 1970]]\n"
     ]
    }
   ],
   "source": [
    "param ={\n",
    "            'n_estimators': [50, 100, 500, 1000, 2000],\n",
    "           \n",
    "        }\n",
    "FitModel(X,y,'finalized_model4.pkl',XGBClassifier(),param,cv=5)"
   ]
  },
  {
   "cell_type": "markdown",
   "metadata": {},
   "source": [
    "### Reloading the Saved Model"
   ]
  },
  {
   "cell_type": "code",
   "execution_count": 47,
   "metadata": {},
   "outputs": [],
   "source": [
    "\n",
    "loaded_model = pickle.load(open(\"finalized_model4.pkl\",\"rb\"))"
   ]
  },
  {
   "cell_type": "code",
   "execution_count": 48,
   "metadata": {},
   "outputs": [],
   "source": [
    "pred = loaded_model.predict(np.array([[-14.54700,0.510690,0.918160,0.545610,1.08060,0.223490,0.631050,1.63450,0.815590,0.480630,0.223490,0.464890,0.141900,1.12070,0.46490,1.44860,1.44900,0.131840,0.86816]]))"
   ]
  },
  {
   "cell_type": "code",
   "execution_count": 49,
   "metadata": {},
   "outputs": [
    {
     "name": "stdout",
     "output_type": "stream",
     "text": [
      "[0]\n"
     ]
    }
   ],
   "source": [
    "print(pred)"
   ]
  },
  {
   "cell_type": "code",
   "execution_count": 50,
   "metadata": {},
   "outputs": [],
   "source": [
    "def change (prediction):\n",
    "    if prediction==1:\n",
    "        return 'yes'\n",
    "    else:\n",
    "        return 'No'"
   ]
  },
  {
   "cell_type": "code",
   "execution_count": 51,
   "metadata": {},
   "outputs": [
    {
     "name": "stdout",
     "output_type": "stream",
     "text": [
      "some of the features of company:-\n",
      " [(cash + short-term securities + receivables - short-term liabilities) / (operating expenses - depreciation)] * 365 = -14.54700\n",
      "retained earnings / total assets = 0.510690\n",
      "book value of equity / total liabilities = 0.918160\n",
      "gross profit / short-term liabilities = 0.545610\n",
      "sales (n) / sales (n-1) = 1.08060\n",
      "profit on operating activities / total assets = 0.223490\n",
      "gross profit (in 3 years) / total assets = 0.631050\n",
      "profit on operating activities / financial expenses = 1.63450\n",
      "working capital / fixed assets = 0.815590\n",
      "operating expenses / total liabilities = 0.480630\n",
      "profit on sales / total assets = 0.223490\n",
      "(current assets - inventory - receivables) / short-term liabilities = 0.464890\n",
      "profit on operating activities / sales = 0.141900\n",
      "(current assets - inventory) / short-term liabilities = 1.12070\n",
      "short-term liabilities / total assets = 0.46490\n",
      "equity / fixed assets = 1.44860\n",
      "( constant capital / fixed assets= 1.44900\n",
      "(sales - cost of products sold) / sales = 0.131840\n",
      "total costs /total sales = 0.86816\n",
      "\n",
      "\n",
      "\n",
      "will company go for bankruptcy ? No\n"
     ]
    }
   ],
   "source": [
    "print('some of the features of company:-')\n",
    "print(' [(cash + short-term securities + receivables - short-term liabilities) / (operating expenses - depreciation)] * 365 = -14.54700')\n",
    "print('retained earnings / total assets = 0.510690')\n",
    "print('book value of equity / total liabilities = 0.918160')\n",
    "print('gross profit / short-term liabilities = 0.545610')\n",
    "print('sales (n) / sales (n-1) = 1.08060')\n",
    "print('profit on operating activities / total assets = 0.223490')\n",
    "print('gross profit (in 3 years) / total assets = 0.631050')\n",
    "print('profit on operating activities / financial expenses = 1.63450')\n",
    "print('working capital / fixed assets = 0.815590')\n",
    "print('operating expenses / total liabilities = 0.480630')\n",
    "print('profit on sales / total assets = 0.223490')\n",
    "print('(current assets - inventory - receivables) / short-term liabilities = 0.464890')\n",
    "print('profit on operating activities / sales = 0.141900')\n",
    "print('(current assets - inventory) / short-term liabilities = 1.12070')\n",
    "print('short-term liabilities / total assets = 0.46490')\n",
    "print('equity / fixed assets = 1.44860')\n",
    "print('( constant capital / fixed assets= 1.44900')\n",
    "print('(sales - cost of products sold) / sales = 0.131840')\n",
    "print('total costs /total sales = 0.86816')\n",
    "print('\\n\\n')\n",
    "\n",
    "print('will company go for bankruptcy ? {}'.format(change(pred)))"
   ]
  },
  {
   "cell_type": "code",
   "execution_count": null,
   "metadata": {},
   "outputs": [],
   "source": []
  }
 ],
 "metadata": {
  "kernelspec": {
   "display_name": "Python 3",
   "language": "python",
   "name": "python3"
  },
  "language_info": {
   "codemirror_mode": {
    "name": "ipython",
    "version": 3
   },
   "file_extension": ".py",
   "mimetype": "text/x-python",
   "name": "python",
   "nbconvert_exporter": "python",
   "pygments_lexer": "ipython3",
   "version": "3.7.6"
  }
 },
 "nbformat": 4,
 "nbformat_minor": 4
}
